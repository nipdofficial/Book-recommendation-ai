{
  "cells": [
    {
      "cell_type": "markdown",
      "metadata": {},
      "source": [
        "# Content-based Recommendation (TF-IDF + Cosine)\n",
        "Steps: Load CSV \u2192 TF-IDF \u2192 Cosine Similarity \u2192 Recommend.\n"
      ]
    }
  ],
  "metadata": {
    "kernelspec": {
      "display_name": "Python 3",
      "language": "python",
      "name": "python3"
    }
  },
  "nbformat": 4,
  "nbformat_minor": 5
}